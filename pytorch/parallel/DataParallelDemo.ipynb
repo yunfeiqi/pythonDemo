{
 "cells": [
  {
   "cell_type": "markdown",
   "metadata": {},
   "source": [
    "\n",
    "## 概要：\n",
    "    Pytorch 并行计算是一种方式，DataParallel 是一种数据并行的方法，主要特征为：\n",
    "    1. 将用户的Input 数据并行发送到多个GPU卡上\n",
    "    2. 在各自GPU上计算完成之后，将返回到 output_device(DataParallel 第三个参数)卡\n",
    "       上计算总Loss和梯度\n",
    "    3. output_device 卡上的使用的GPU负载远远大于剩余的其他卡\n",
    "\n",
    "## 过程：\n",
    "    DataParallel 可以在多个GPU上训练模型，它会将模型的多个副本发送到所有的GPU上。每个GPU都会\n",
    "    消费数据的不同分区（Parition）。\n",
    "## 注意：\n",
    "    使用 DataParallel 如名称一样，是一种将数据并行的技术，每个GPU卡上的模型是相同的。\n"
   ]
  },
  {
   "cell_type": "code",
   "execution_count": 1,
   "metadata": {},
   "outputs": [],
   "source": [
    "\n",
    "import torch\n",
    "import torch.nn as nn\n",
    "import torch.optim as optim"
   ]
  },
  {
   "cell_type": "code",
   "execution_count": 2,
   "metadata": {},
   "outputs": [],
   "source": [
    "\n",
    "class ToyModel(nn.Module):\n",
    "    def __init__(self):\n",
    "        super(ToyModel, self).__init__()\n",
    "    def forward(self, x):\n",
    "        print(len(x))\n",
    "        print(x)\n",
    "        return x"
   ]
  },
  {
   "cell_type": "code",
   "execution_count": 3,
   "metadata": {},
   "outputs": [],
   "source": [
    "model = ToyModel()\n",
    "model = nn.DataParallel(model,device_ids=[0,1,2,3,4],output_device=0)"
   ]
  },
  {
   "cell_type": "code",
   "execution_count": 6,
   "metadata": {},
   "outputs": [
    {
     "name": "stdout",
     "output_type": "stream",
     "text": [
      "5\n",
      "tensor([[0, 1],\n",
      "        [2, 3],\n",
      "        [4, 5],\n",
      "        [6, 7],\n",
      "        [8, 9]])\n"
     ]
    },
    {
     "data": {
      "text/plain": [
       "tensor([[0, 1],\n",
       "        [2, 3],\n",
       "        [4, 5],\n",
       "        [6, 7],\n",
       "        [8, 9]])"
      ]
     },
     "execution_count": 6,
     "metadata": {},
     "output_type": "execute_result"
    }
   ],
   "source": [
    "data = torch.arange(10).view(5,2)\n",
    "model(data)"
   ]
  },
  {
   "cell_type": "code",
   "execution_count": null,
   "metadata": {},
   "outputs": [],
   "source": []
  }
 ],
 "metadata": {
  "interpreter": {
   "hash": "623398adbb2182f6aaa6ce68d7753e9a88e13bf872469dcc3439c4e0a378126d"
  },
  "kernelspec": {
   "display_name": "Python 3.8.8 64-bit ('base': conda)",
   "name": "python3"
  },
  "language_info": {
   "codemirror_mode": {
    "name": "ipython",
    "version": 3
   },
   "file_extension": ".py",
   "mimetype": "text/x-python",
   "name": "python",
   "nbconvert_exporter": "python",
   "pygments_lexer": "ipython3",
   "version": "3.8.8"
  },
  "orig_nbformat": 4
 },
 "nbformat": 4,
 "nbformat_minor": 2
}
